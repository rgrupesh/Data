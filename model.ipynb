{
 "cells": [
  {
   "cell_type": "code",
   "execution_count": 1,
   "metadata": {
    "colab": {
     "base_uri": "https://localhost:8080/",
     "height": 35
    },
    "colab_type": "code",
    "id": "DkZ4wZNFiAkJ",
    "outputId": "b3979a2f-7cbe-4b4e-a17a-a0277d29e8e8"
   },
   "outputs": [
    {
     "data": {
      "application/vnd.google.colaboratory.intrinsic+json": {
       "type": "string"
      },
      "text/plain": [
       "'/content'"
      ]
     },
     "execution_count": 1,
     "metadata": {
      "tags": []
     },
     "output_type": "execute_result"
    }
   ],
   "source": [
    "pwd"
   ]
  },
  {
   "cell_type": "code",
   "execution_count": 2,
   "metadata": {
    "colab": {
     "base_uri": "https://localhost:8080/",
     "height": 136
    },
    "colab_type": "code",
    "id": "b_8HQ_1kisd7",
    "outputId": "b45d6da8-cbdb-4aee-9687-6a4ebaa320ea"
   },
   "outputs": [
    {
     "name": "stdout",
     "output_type": "stream",
     "text": [
      "Cloning into 'test'...\n",
      "remote: Enumerating objects: 10020, done.\u001b[K\n",
      "remote: Counting objects:   0% (1/10020)\u001b[K\r",
      "remote: Counting objects:   1% (101/10020)\u001b[K\r",
      "remote: Counting objects:   2% (201/10020)\u001b[K\r",
      "remote: Counting objects:   3% (301/10020)\u001b[K\r",
      "remote: Counting objects:   4% (401/10020)\u001b[K\r",
      "remote: Counting objects:   5% (501/10020)\u001b[K\r",
      "remote: Counting objects:   6% (602/10020)\u001b[K\r",
      "remote: Counting objects:   7% (702/10020)\u001b[K\r",
      "remote: Counting objects:   8% (802/10020)\u001b[K\r",
      "remote: Counting objects:   9% (902/10020)\u001b[K\r",
      "remote: Counting objects:  10% (1002/10020)\u001b[K\r",
      "remote: Counting objects:  11% (1103/10020)\u001b[K\r",
      "remote: Counting objects:  12% (1203/10020)\u001b[K\r",
      "remote: Counting objects:  13% (1303/10020)\u001b[K\r",
      "remote: Counting objects:  14% (1403/10020)\u001b[K\r",
      "remote: Counting objects:  15% (1503/10020)\u001b[K\r",
      "remote: Counting objects:  16% (1604/10020)\u001b[K\r",
      "remote: Counting objects:  17% (1704/10020)\u001b[K\r",
      "remote: Counting objects:  18% (1804/10020)\u001b[K\r",
      "remote: Counting objects:  19% (1904/10020)\u001b[K\r",
      "remote: Counting objects:  20% (2004/10020)\u001b[K\r",
      "remote: Counting objects:  21% (2105/10020)\u001b[K\r",
      "remote: Counting objects:  22% (2205/10020)\u001b[K\r",
      "remote: Counting objects:  23% (2305/10020)\u001b[K\r",
      "remote: Counting objects:  24% (2405/10020)\u001b[K\r",
      "remote: Counting objects:  25% (2505/10020)\u001b[K\r",
      "remote: Counting objects:  26% (2606/10020)\u001b[K\r",
      "remote: Counting objects:  27% (2706/10020)\u001b[K\r",
      "remote: Counting objects:  28% (2806/10020)\u001b[K\r",
      "remote: Counting objects:  29% (2906/10020)\u001b[K\r",
      "remote: Counting objects:  30% (3006/10020)\u001b[K\r",
      "remote: Counting objects:  31% (3107/10020)\u001b[K\r",
      "remote: Counting objects:  32% (3207/10020)\u001b[K\r",
      "remote: Counting objects:  33% (3307/10020)\u001b[K\r",
      "remote: Counting objects:  34% (3407/10020)\u001b[K\r",
      "remote: Counting objects:  35% (3507/10020)\u001b[K\r",
      "remote: Counting objects:  36% (3608/10020)\u001b[K\r",
      "remote: Counting objects:  37% (3708/10020)\u001b[K\r",
      "remote: Counting objects:  38% (3808/10020)\u001b[K\r",
      "remote: Counting objects:  39% (3908/10020)\u001b[K\r",
      "remote: Counting objects:  40% (4008/10020)\u001b[K\r",
      "remote: Counting objects:  41% (4109/10020)\u001b[K\r",
      "remote: Counting objects:  42% (4209/10020)\u001b[K\r",
      "remote: Counting objects:  43% (4309/10020)\u001b[K\r",
      "remote: Counting objects:  44% (4409/10020)\u001b[K\r",
      "remote: Counting objects:  45% (4509/10020)\u001b[K\r",
      "remote: Counting objects:  46% (4610/10020)\u001b[K\r",
      "remote: Counting objects:  47% (4710/10020)\u001b[K\r",
      "remote: Counting objects:  48% (4810/10020)\u001b[K\r",
      "remote: Counting objects:  49% (4910/10020)\u001b[K\r",
      "remote: Counting objects:  50% (5010/10020)\u001b[K\r",
      "remote: Counting objects:  51% (5111/10020)\u001b[K\r",
      "remote: Counting objects:  52% (5211/10020)\u001b[K\r",
      "remote: Counting objects:  53% (5311/10020)\u001b[K\r",
      "remote: Counting objects:  54% (5411/10020)\u001b[K\r",
      "remote: Counting objects:  55% (5511/10020)\u001b[K\r",
      "remote: Counting objects:  56% (5612/10020)\u001b[K\r",
      "remote: Counting objects:  57% (5712/10020)\u001b[K\r",
      "remote: Counting objects:  58% (5812/10020)\u001b[K\r",
      "remote: Counting objects:  59% (5912/10020)\u001b[K\r",
      "remote: Counting objects:  60% (6012/10020)\u001b[K\r",
      "remote: Counting objects:  61% (6113/10020)\u001b[K\r",
      "remote: Counting objects:  62% (6213/10020)\u001b[K\r",
      "remote: Counting objects:  63% (6313/10020)\u001b[K\r",
      "remote: Counting objects:  64% (6413/10020)\u001b[K\r",
      "remote: Counting objects:  65% (6513/10020)\u001b[K\r",
      "remote: Counting objects:  66% (6614/10020)\u001b[K\r",
      "remote: Counting objects:  67% (6714/10020)\u001b[K\r",
      "remote: Counting objects:  68% (6814/10020)\u001b[K\r",
      "remote: Counting objects:  69% (6914/10020)\u001b[K\r",
      "remote: Counting objects:  70% (7014/10020)\u001b[K\r",
      "remote: Counting objects:  71% (7115/10020)\u001b[K\r",
      "remote: Counting objects:  72% (7215/10020)\u001b[K\r",
      "remote: Counting objects:  73% (7315/10020)\u001b[K\r",
      "remote: Counting objects:  74% (7415/10020)\u001b[K\r",
      "remote: Counting objects:  75% (7515/10020)\u001b[K\r",
      "remote: Counting objects:  76% (7616/10020)\u001b[K\r",
      "remote: Counting objects:  77% (7716/10020)\u001b[K\r",
      "remote: Counting objects:  78% (7816/10020)\u001b[K\r",
      "remote: Counting objects:  79% (7916/10020)\u001b[K\r",
      "remote: Counting objects:  80% (8016/10020)\u001b[K\r",
      "remote: Counting objects:  81% (8117/10020)\u001b[K\r",
      "remote: Counting objects:  82% (8217/10020)\u001b[K\r",
      "remote: Counting objects:  83% (8317/10020)\u001b[K\r",
      "remote: Counting objects:  84% (8417/10020)\u001b[K\r",
      "remote: Counting objects:  85% (8517/10020)\u001b[K\r",
      "remote: Counting objects:  86% (8618/10020)\u001b[K\r",
      "remote: Counting objects:  87% (8718/10020)\u001b[K\r",
      "remote: Counting objects:  88% (8818/10020)\u001b[K\r",
      "remote: Counting objects:  89% (8918/10020)\u001b[K\r",
      "remote: Counting objects:  90% (9018/10020)\u001b[K\r",
      "remote: Counting objects:  91% (9119/10020)\u001b[K\r",
      "remote: Counting objects:  92% (9219/10020)\u001b[K\r",
      "remote: Counting objects:  93% (9319/10020)\u001b[K\r",
      "remote: Counting objects:  94% (9419/10020)\u001b[K\r",
      "remote: Counting objects:  95% (9519/10020)\u001b[K\r",
      "remote: Counting objects:  96% (9620/10020)\u001b[K\r",
      "remote: Counting objects:  97% (9720/10020)\u001b[K\r",
      "remote: Counting objects:  98% (9820/10020)\u001b[K\r",
      "remote: Counting objects:  99% (9920/10020)\u001b[K\r",
      "remote: Counting objects: 100% (10020/10020)\u001b[K\r",
      "remote: Counting objects: 100% (10020/10020), done.\u001b[K\n",
      "remote: Compressing objects: 100% (9944/9944), done.\u001b[K\n",
      "remote: Total 10020 (delta 74), reused 10016 (delta 73), pack-reused 0\u001b[K\n",
      "Receiving objects: 100% (10020/10020), 10.94 MiB | 24.04 MiB/s, done.\n",
      "Resolving deltas: 100% (74/74), done.\n"
     ]
    }
   ],
   "source": [
    "!git clone https://github.com/rgrupesh/test.git"
   ]
  },
  {
   "cell_type": "code",
   "execution_count": 3,
   "metadata": {
    "colab": {},
    "colab_type": "code",
    "id": "EBTbOysN_m7F"
   },
   "outputs": [],
   "source": [
    "import tensorflow as tf\n",
    "import numpy as np\n",
    "import matplotlib.pyplot as plt \n",
    "import cv2\n",
    "import os"
   ]
  },
  {
   "cell_type": "code",
   "execution_count": 4,
   "metadata": {
    "colab": {},
    "colab_type": "code",
    "id": "4fg0lVC2AMuy"
   },
   "outputs": [],
   "source": [
    "labels = []\n",
    "images = []\n",
    "\n",
    "for i in range(0,10):\n",
    "    img = os.listdir(\"test/Data/\" + str(i))\n",
    "    for j in img:\n",
    "        c_img = cv2.imread(\"test/Data/\" + str(i) + \"/\" + str(j))\n",
    "        img_resize = cv2.resize(c_img, (28,28))\n",
    "        images.append(img_resize)\n",
    "        labels.append(i)"
   ]
  },
  {
   "cell_type": "code",
   "execution_count": 5,
   "metadata": {
    "colab": {
     "base_uri": "https://localhost:8080/",
     "height": 34
    },
    "colab_type": "code",
    "id": "bDldAzQ1Acqk",
    "outputId": "cce9ab22-c8e9-4145-a0e4-ecbffaf6bb9a"
   },
   "outputs": [
    {
     "name": "stdout",
     "output_type": "stream",
     "text": [
      " images= 10160 labels=10160\n"
     ]
    }
   ],
   "source": [
    "print(f\" images= {len(images)} labels={len(labels)}\")"
   ]
  },
  {
   "cell_type": "code",
   "execution_count": 6,
   "metadata": {
    "colab": {
     "base_uri": "https://localhost:8080/",
     "height": 34
    },
    "colab_type": "code",
    "id": "yFFt84eCAlq6",
    "outputId": "3684948f-fd9b-4ccb-9c11-41876e2b650d"
   },
   "outputs": [
    {
     "name": "stdout",
     "output_type": "stream",
     "text": [
      " images_shape=(10160, 28, 28, 3) labels_shape=(10160,)\n"
     ]
    }
   ],
   "source": [
    "images = np.array(images)\n",
    "labels = np.array(labels)\n",
    "\n",
    "print(f\" images_shape={images.shape} labels_shape={labels.shape}\")"
   ]
  },
  {
   "cell_type": "code",
   "execution_count": 7,
   "metadata": {
    "colab": {},
    "colab_type": "code",
    "id": "8Bd6TpAcNOaF"
   },
   "outputs": [],
   "source": [
    "from sklearn.model_selection import train_test_split"
   ]
  },
  {
   "cell_type": "code",
   "execution_count": 8,
   "metadata": {
    "colab": {
     "base_uri": "https://localhost:8080/",
     "height": 34
    },
    "colab_type": "code",
    "id": "9C6iXO-VNSaT",
    "outputId": "78a2d7d7-04b9-4650-a18c-b346dac530a9"
   },
   "outputs": [
    {
     "name": "stdout",
     "output_type": "stream",
     "text": [
      "(8128, 28, 28, 3) (2032, 28, 28, 3)\n"
     ]
    }
   ],
   "source": [
    "train_images, test_images, train_labels, test_labels = train_test_split(images, labels, test_size=0.2)\n",
    "print(f\"{train_images.shape} {test_images.shape}\")"
   ]
  },
  {
   "cell_type": "code",
   "execution_count": 9,
   "metadata": {
    "colab": {
     "base_uri": "https://localhost:8080/",
     "height": 34
    },
    "colab_type": "code",
    "id": "mIRsWaz7N0k0",
    "outputId": "ab35ee41-64ef-4f50-f8f8-bf1d8b8f82db"
   },
   "outputs": [
    {
     "name": "stdout",
     "output_type": "stream",
     "text": [
      "(6502, 28, 28, 3) (1626, 28, 28, 3)\n"
     ]
    }
   ],
   "source": [
    "train_images,  val_images, train_labels, val_labels = train_test_split(train_images, train_labels, test_size=0.2)\n",
    "print(f\"{train_images.shape} {val_images.shape}\")"
   ]
  },
  {
   "cell_type": "code",
   "execution_count": 10,
   "metadata": {
    "colab": {},
    "colab_type": "code",
    "id": "Othbg19QOiH6"
   },
   "outputs": [],
   "source": [
    "def preProcessing(img):\n",
    "    img = cv2.cvtColor(img,cv2.COLOR_BGR2GRAY)\n",
    "    img = cv2.equalizeHist(img)\n",
    "    ret,img = cv2.threshold(img,127,255,cv2.THRESH_BINARY)\n",
    "    img = img/255\n",
    "    return img"
   ]
  },
  {
   "cell_type": "code",
   "execution_count": 11,
   "metadata": {
    "colab": {
     "base_uri": "https://localhost:8080/",
     "height": 34
    },
    "colab_type": "code",
    "id": "zSyf9xgnOk9l",
    "outputId": "b9d775df-764f-4904-d6c4-72abe99ade0b"
   },
   "outputs": [
    {
     "name": "stdout",
     "output_type": "stream",
     "text": [
      "(6502, 28, 28) (1626, 28, 28) (2032, 28, 28)\n"
     ]
    }
   ],
   "source": [
    "train_images = np.array(list(map(preProcessing,train_images)))\n",
    "val_images = np.array(list(map(preProcessing,val_images)))\n",
    "test_images = np.array(list(map(preProcessing,test_images)))\n",
    "\n",
    "print(f\"{train_images.shape} {val_images.shape} {test_images.shape}\")"
   ]
  },
  {
   "cell_type": "code",
   "execution_count": 12,
   "metadata": {
    "colab": {
     "base_uri": "https://localhost:8080/",
     "height": 34
    },
    "colab_type": "code",
    "id": "RPgHa-B1OpgR",
    "outputId": "bfc41b45-78d5-424d-e4d3-0c999421bafa"
   },
   "outputs": [
    {
     "name": "stdout",
     "output_type": "stream",
     "text": [
      "(6502, 28, 28, 1) (1626, 28, 28, 1) (2032, 28, 28, 1)\n"
     ]
    }
   ],
   "source": [
    "train_images = train_images.reshape(train_images.shape[0], 28, 28, 1)\n",
    "test_images = test_images.reshape(test_images.shape[0], 28, 28, 1)\n",
    "val_images = val_images.reshape(val_images.shape[0], 28, 28, 1)\n",
    "\n",
    "print(f\"{train_images.shape} {val_images.shape} {test_images.shape}\")"
   ]
  },
  {
   "cell_type": "code",
   "execution_count": 13,
   "metadata": {
    "colab": {},
    "colab_type": "code",
    "id": "Fi0YaqmMOsgl"
   },
   "outputs": [],
   "source": [
    "model = tf.keras.models.Sequential([\n",
    "                                    tf.keras.layers.Conv2D(32, (3,3), input_shape=(28, 28, 1),  activation=\"relu\"),\n",
    "                                    tf.keras.layers.MaxPooling2D(2, 2),\n",
    "                                    tf.keras.layers.Dropout(0.5),\n",
    "                                    tf.keras.layers.Conv2D(64, (3,3),  activation=\"relu\"),\n",
    "                                    tf.keras.layers.MaxPooling2D(2, 2),\n",
    "                                    tf.keras.layers.Dropout(0.5),\n",
    "                                    tf.keras.layers.Conv2D(64, (3,3),  activation=\"relu\"),\n",
    "                                    tf.keras.layers.Flatten(),\n",
    "                                    tf.keras.layers.Dense(128, activation=\"relu\"),\n",
    "                                    tf.keras.layers.Dropout(0.5),\n",
    "                                    tf.keras.layers.Dense(10,activation=tf.nn.softmax)\n",
    "])"
   ]
  },
  {
   "cell_type": "code",
   "execution_count": 14,
   "metadata": {
    "colab": {
     "base_uri": "https://localhost:8080/",
     "height": 527
    },
    "colab_type": "code",
    "id": "E0hHIG-0OvsJ",
    "outputId": "2d6e7158-b1a2-405a-9b1f-9b17fa3309d4"
   },
   "outputs": [
    {
     "name": "stdout",
     "output_type": "stream",
     "text": [
      "Model: \"sequential\"\n",
      "_________________________________________________________________\n",
      "Layer (type)                 Output Shape              Param #   \n",
      "=================================================================\n",
      "conv2d (Conv2D)              (None, 26, 26, 32)        320       \n",
      "_________________________________________________________________\n",
      "max_pooling2d (MaxPooling2D) (None, 13, 13, 32)        0         \n",
      "_________________________________________________________________\n",
      "dropout (Dropout)            (None, 13, 13, 32)        0         \n",
      "_________________________________________________________________\n",
      "conv2d_1 (Conv2D)            (None, 11, 11, 64)        18496     \n",
      "_________________________________________________________________\n",
      "max_pooling2d_1 (MaxPooling2 (None, 5, 5, 64)          0         \n",
      "_________________________________________________________________\n",
      "dropout_1 (Dropout)          (None, 5, 5, 64)          0         \n",
      "_________________________________________________________________\n",
      "conv2d_2 (Conv2D)            (None, 3, 3, 64)          36928     \n",
      "_________________________________________________________________\n",
      "flatten (Flatten)            (None, 576)               0         \n",
      "_________________________________________________________________\n",
      "dense (Dense)                (None, 128)               73856     \n",
      "_________________________________________________________________\n",
      "dropout_2 (Dropout)          (None, 128)               0         \n",
      "_________________________________________________________________\n",
      "dense_1 (Dense)              (None, 10)                1290      \n",
      "=================================================================\n",
      "Total params: 130,890\n",
      "Trainable params: 130,890\n",
      "Non-trainable params: 0\n",
      "_________________________________________________________________\n"
     ]
    }
   ],
   "source": [
    "model.compile(optimizer='adam', \n",
    "              loss='sparse_categorical_crossentropy', \n",
    "              metrics=['accuracy'])\n",
    "model.summary()"
   ]
  },
  {
   "cell_type": "code",
   "execution_count": 15,
   "metadata": {
    "colab": {},
    "colab_type": "code",
    "id": "Rzso5YJzOyf7"
   },
   "outputs": [],
   "source": [
    "datagen = tf.keras.preprocessing.image.ImageDataGenerator(width_shift_range=0.1,\n",
    "                             height_shift_range=0.1,\n",
    "                             zoom_range=0.2,\n",
    "                             shear_range=0.1,\n",
    "                             rotation_range=10)"
   ]
  },
  {
   "cell_type": "code",
   "execution_count": 16,
   "metadata": {
    "colab": {
     "base_uri": "https://localhost:8080/",
     "height": 697
    },
    "colab_type": "code",
    "id": "vwj2c8E8O08A",
    "outputId": "1ee666f6-9583-41f3-f2d1-9c5c2294f84c"
   },
   "outputs": [
    {
     "name": "stdout",
     "output_type": "stream",
     "text": [
      "Epoch 1/20\n",
      "204/204 [==============================] - 2s 12ms/step - loss: 2.0276 - accuracy: 0.2479 - val_loss: 0.8802 - val_accuracy: 0.8555\n",
      "Epoch 2/20\n",
      "204/204 [==============================] - 2s 10ms/step - loss: 0.9363 - accuracy: 0.6801 - val_loss: 0.1316 - val_accuracy: 0.9637\n",
      "Epoch 3/20\n",
      "204/204 [==============================] - 2s 10ms/step - loss: 0.5211 - accuracy: 0.8268 - val_loss: 0.0849 - val_accuracy: 0.9717\n",
      "Epoch 4/20\n",
      "204/204 [==============================] - 2s 10ms/step - loss: 0.3898 - accuracy: 0.8736 - val_loss: 0.0617 - val_accuracy: 0.9766\n",
      "Epoch 5/20\n",
      "204/204 [==============================] - 2s 10ms/step - loss: 0.2984 - accuracy: 0.9017 - val_loss: 0.0479 - val_accuracy: 0.9889\n",
      "Epoch 6/20\n",
      "204/204 [==============================] - 2s 10ms/step - loss: 0.2637 - accuracy: 0.9202 - val_loss: 0.0416 - val_accuracy: 0.9865\n",
      "Epoch 7/20\n",
      "204/204 [==============================] - 2s 10ms/step - loss: 0.2357 - accuracy: 0.9276 - val_loss: 0.0303 - val_accuracy: 0.9926\n",
      "Epoch 8/20\n",
      "204/204 [==============================] - 2s 10ms/step - loss: 0.2096 - accuracy: 0.9340 - val_loss: 0.0381 - val_accuracy: 0.9846\n",
      "Epoch 9/20\n",
      "204/204 [==============================] - 2s 10ms/step - loss: 0.1942 - accuracy: 0.9382 - val_loss: 0.0324 - val_accuracy: 0.9889\n",
      "Epoch 10/20\n",
      "204/204 [==============================] - 2s 10ms/step - loss: 0.1781 - accuracy: 0.9432 - val_loss: 0.0222 - val_accuracy: 0.9908\n",
      "Epoch 11/20\n",
      "204/204 [==============================] - 2s 10ms/step - loss: 0.1808 - accuracy: 0.9417 - val_loss: 0.0282 - val_accuracy: 0.9889\n",
      "Epoch 12/20\n",
      "204/204 [==============================] - 2s 10ms/step - loss: 0.1560 - accuracy: 0.9500 - val_loss: 0.0256 - val_accuracy: 0.9902\n",
      "Epoch 13/20\n",
      "204/204 [==============================] - 2s 10ms/step - loss: 0.1611 - accuracy: 0.9506 - val_loss: 0.0199 - val_accuracy: 0.9938\n",
      "Epoch 14/20\n",
      "204/204 [==============================] - 2s 10ms/step - loss: 0.1477 - accuracy: 0.9517 - val_loss: 0.0253 - val_accuracy: 0.9920\n",
      "Epoch 15/20\n",
      "204/204 [==============================] - 2s 10ms/step - loss: 0.1583 - accuracy: 0.9494 - val_loss: 0.0182 - val_accuracy: 0.9957\n",
      "Epoch 16/20\n",
      "204/204 [==============================] - 2s 10ms/step - loss: 0.1341 - accuracy: 0.9591 - val_loss: 0.0209 - val_accuracy: 0.9938\n",
      "Epoch 17/20\n",
      "204/204 [==============================] - 2s 10ms/step - loss: 0.1352 - accuracy: 0.9559 - val_loss: 0.0203 - val_accuracy: 0.9938\n",
      "Epoch 18/20\n",
      "204/204 [==============================] - 2s 10ms/step - loss: 0.1345 - accuracy: 0.9585 - val_loss: 0.0174 - val_accuracy: 0.9957\n",
      "Epoch 19/20\n",
      "204/204 [==============================] - 2s 10ms/step - loss: 0.1196 - accuracy: 0.9629 - val_loss: 0.0155 - val_accuracy: 0.9957\n",
      "Epoch 20/20\n",
      "204/204 [==============================] - 2s 10ms/step - loss: 0.1266 - accuracy: 0.9612 - val_loss: 0.0141 - val_accuracy: 0.9969\n"
     ]
    }
   ],
   "source": [
    "history = model.fit(datagen.flow(train_images, train_labels),\n",
    "                              epochs = 20, batch_size=128, validation_data = (val_images, val_labels))"
   ]
  },
  {
   "cell_type": "code",
   "execution_count": 17,
   "metadata": {
    "colab": {
     "base_uri": "https://localhost:8080/",
     "height": 541
    },
    "colab_type": "code",
    "id": "6C1-oRRlPF7Q",
    "outputId": "4c36c926-f1eb-464a-ffff-969fa76cdef2"
   },
   "outputs": [
    {
     "data": {
      "image/png": "[encoded data removed]",
      "text/plain": [
       "<Figure size 432x288 with 1 Axes>"
      ]
     },
     "metadata": {
      "needs_background": "light",
      "tags": []
     },
     "output_type": "display_data"
    },
    {
     "data": {
      "image/png": "[encoded data removed]",
      "text/plain": [
       "<Figure size 432x288 with 1 Axes>"
      ]
     },
     "metadata": {
      "needs_background": "light",
      "tags": []
     },
     "output_type": "display_data"
    }
   ],
   "source": [
    "def show_plot(history,string):\n",
    "    plt.plot(history.history[string])\n",
    "    plt.plot(history.history[\"val_\" + string])\n",
    "    plt.xlabel(\"epochs\")\n",
    "    plt.ylabel(string)\n",
    "    plt.legend([string,\"val_\" + string])\n",
    "    plt.show()\n",
    "    \n",
    "show_plot(history,\"accuracy\")  \n",
    "show_plot(history,\"loss\")"
   ]
  },
  {
   "cell_type": "code",
   "execution_count": 18,
   "metadata": {
    "colab": {
     "base_uri": "https://localhost:8080/",
     "height": 34
    },
    "colab_type": "code",
    "id": "9IZvClPlP3-b",
    "outputId": "04cdb23a-4405-4022-b186-32bbbe6b9493"
   },
   "outputs": [
    {
     "name": "stdout",
     "output_type": "stream",
     "text": [
      "64/64 [==============================] - 0s 2ms/step - loss: 0.0218 - accuracy: 0.9916\n"
     ]
    }
   ],
   "source": [
    "score = model.evaluate(test_images, test_labels, verbose=1)"
   ]
  },
  {
   "cell_type": "code",
   "execution_count": 19,
   "metadata": {
    "colab": {
     "base_uri": "https://localhost:8080/",
     "height": 156
    },
    "colab_type": "code",
    "id": "tuqi5vMUQV-r",
    "outputId": "c4950a60-c3a7-4e05-f97b-9c2ae7c32c8c"
   },
   "outputs": [
    {
     "name": "stdout",
     "output_type": "stream",
     "text": [
      "WARNING:tensorflow:From /usr/local/lib/python3.6/dist-packages/tensorflow/python/training/tracking/tracking.py:111: Model.state_updates (from tensorflow.python.keras.engine.training) is deprecated and will be removed in a future version.\n",
      "Instructions for updating:\n",
      "This property should not be used in TensorFlow 2.0, as updates are applied automatically.\n",
      "WARNING:tensorflow:From /usr/local/lib/python3.6/dist-packages/tensorflow/python/training/tracking/tracking.py:111: Layer.updates (from tensorflow.python.keras.engine.base_layer) is deprecated and will be removed in a future version.\n",
      "Instructions for updating:\n",
      "This property should not be used in TensorFlow 2.0, as updates are applied automatically.\n",
      "INFO:tensorflow:Assets written to: Digit_Recognizer/assets\n"
     ]
    }
   ],
   "source": [
    "model.save(\"digitRecognizer.h5\")"
   ]
  },
  {
   "cell_type": "code",
   "execution_count": null,
   "metadata": {
    "colab": {},
    "colab_type": "code",
    "id": "kq1fBZE7Qw_e"
   },
   "outputs": [],
   "source": []
  }
 ],
 "metadata": {
  "accelerator": "GPU",
  "colab": {
   "name": "model.ipynb",
   "provenance": []
  },
  "kernelspec": {
   "display_name": "Python 3",
   "language": "python",
   "name": "python3"
  },
  "language_info": {
   "codemirror_mode": {
    "name": "ipython",
    "version": 3
   },
   "file_extension": ".py",
   "mimetype": "text/x-python",
   "name": "python",
   "nbconvert_exporter": "python",
   "pygments_lexer": "ipython3",
   "version": "3.7.7"
  }
 },
 "nbformat": 4,
 "nbformat_minor": 1
}
