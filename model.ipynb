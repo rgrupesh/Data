{
  "nbformat": 4,
  "nbformat_minor": 0,
  "metadata": {
    "colab": {
      "name": "model.ipynb",
      "provenance": []
    },
    "kernelspec": {
      "name": "python3",
      "display_name": "Python 3"
    },
    "accelerator": "GPU"
  },
  "cells": [
    {
      "cell_type": "code",
      "metadata": {
        "id": "DkZ4wZNFiAkJ",
        "colab_type": "code",
        "colab": {
          "base_uri": "https://localhost:8080/",
          "height": 35
        },
        "outputId": "406c0184-6d12-4ffc-fce7-927df737624d"
      },
      "source": [
        "pwd"
      ],
      "execution_count": 12,
      "outputs": [
        {
          "output_type": "execute_result",
          "data": {
            "application/vnd.google.colaboratory.intrinsic+json": {
              "type": "string"
            },
            "text/plain": [
              "'/content'"
            ]
          },
          "metadata": {
            "tags": []
          },
          "execution_count": 12
        }
      ]
    },
    {
      "cell_type": "code",
      "metadata": {
        "id": "b_8HQ_1kisd7",
        "colab_type": "code",
        "colab": {
          "base_uri": "https://localhost:8080/",
          "height": 136
        },
        "outputId": "358638ee-ce99-438c-ef40-9c740bf2ca09"
      },
      "source": [
        "!git clone https://github.com/rgrupesh/test.git"
      ],
      "execution_count": 11,
      "outputs": [
        {
          "output_type": "stream",
          "text": [
            "Cloning into 'test'...\n",
            "remote: Enumerating objects: 10016, done.\u001b[K\n",
            "remote: Counting objects: 100% (10016/10016), done.\u001b[K\n",
            "remote: Compressing objects: 100% (9940/9940), done.\u001b[K\n",
            "remote: Total 10016 (delta 73), reused 10013 (delta 73), pack-reused 0\u001b[K\n",
            "Receiving objects: 100% (10016/10016), 9.53 MiB | 4.11 MiB/s, done.\n",
            "Resolving deltas: 100% (73/73), done.\n"
          ],
          "name": "stdout"
        }
      ]
    },
    {
      "cell_type": "code",
      "metadata": {
        "id": "EBTbOysN_m7F",
        "colab_type": "code",
        "colab": {}
      },
      "source": [
        "import tensorflow as tf\n",
        "import numpy as np\n",
        "import matplotlib.pyplot as plt \n",
        "import cv2\n",
        "import os"
      ],
      "execution_count": 13,
      "outputs": []
    },
    {
      "cell_type": "code",
      "metadata": {
        "id": "4fg0lVC2AMuy",
        "colab_type": "code",
        "colab": {}
      },
      "source": [
        "labels = []\n",
        "images = []\n",
        "\n",
        "for i in range(0,10):\n",
        "    img = os.listdir(\"test/Data/\" + str(i))\n",
        "    for j in img:\n",
        "        c_img = cv2.imread(\"test/Data/\" + str(i) + \"/\" + str(j))\n",
        "        img_resize = cv2.resize(c_img, (28,28))\n",
        "        images.append(img_resize)\n",
        "        labels.append(i)"
      ],
      "execution_count": 14,
      "outputs": []
    },
    {
      "cell_type": "code",
      "metadata": {
        "id": "bDldAzQ1Acqk",
        "colab_type": "code",
        "colab": {
          "base_uri": "https://localhost:8080/",
          "height": 34
        },
        "outputId": "da3a2cdf-e0b0-49d2-90ed-5309ebe3cea4"
      },
      "source": [
        "print(f\" images= {len(images)} labels={len(labels)}\")"
      ],
      "execution_count": 15,
      "outputs": [
        {
          "output_type": "stream",
          "text": [
            " images= 10160 labels=10160\n"
          ],
          "name": "stdout"
        }
      ]
    },
    {
      "cell_type": "code",
      "metadata": {
        "id": "yFFt84eCAlq6",
        "colab_type": "code",
        "colab": {
          "base_uri": "https://localhost:8080/",
          "height": 34
        },
        "outputId": "db7a807e-f9b5-4f47-9b24-4fa949162da1"
      },
      "source": [
        "images = np.array(images)\n",
        "labels = np.array(labels)\n",
        "\n",
        "print(f\" images_shape={images.shape} labels_shape={labels.shape}\")"
      ],
      "execution_count": 21,
      "outputs": [
        {
          "output_type": "stream",
          "text": [
            " images_shape=(10160, 28, 28, 3) labels_shape=(10160,)\n"
          ],
          "name": "stdout"
        }
      ]
    },
    {
      "cell_type": "code",
      "metadata": {
        "id": "8Bd6TpAcNOaF",
        "colab_type": "code",
        "colab": {}
      },
      "source": [
        "from sklearn.model_selection import train_test_split"
      ],
      "execution_count": 22,
      "outputs": []
    },
    {
      "cell_type": "code",
      "metadata": {
        "id": "9C6iXO-VNSaT",
        "colab_type": "code",
        "colab": {
          "base_uri": "https://localhost:8080/",
          "height": 34
        },
        "outputId": "a8313dc3-05e9-45aa-c635-486d0944242c"
      },
      "source": [
        "train_images, test_images, train_labels, test_labels = train_test_split(images, labels, test_size=0.2)\n",
        "print(f\"{train_images.shape} {test_images.shape}\")"
      ],
      "execution_count": 23,
      "outputs": [
        {
          "output_type": "stream",
          "text": [
            "(8128, 28, 28, 3) (2032, 28, 28, 3)\n"
          ],
          "name": "stdout"
        }
      ]
    },
    {
      "cell_type": "code",
      "metadata": {
        "id": "mIRsWaz7N0k0",
        "colab_type": "code",
        "colab": {
          "base_uri": "https://localhost:8080/",
          "height": 34
        },
        "outputId": "54e9cfb2-d3ba-49fa-c703-c6a5c38fc82f"
      },
      "source": [
        "train_images,  val_images, train_labels, val_labels = train_test_split(train_images, train_labels, test_size=0.2)\n",
        "print(f\"{train_images.shape} {val_images.shape}\")"
      ],
      "execution_count": 24,
      "outputs": [
        {
          "output_type": "stream",
          "text": [
            "(6502, 28, 28, 3) (1626, 28, 28, 3)\n"
          ],
          "name": "stdout"
        }
      ]
    },
    {
      "cell_type": "code",
      "metadata": {
        "id": "Othbg19QOiH6",
        "colab_type": "code",
        "colab": {}
      },
      "source": [
        "def preProcessing(img):\n",
        "    img = cv2.cvtColor(img,cv2.COLOR_BGR2GRAY)\n",
        "    img = cv2.equalizeHist(img)\n",
        "    ret,img = cv2.threshold(img,127,255,cv2.THRESH_BINARY)\n",
        "    img = img/255\n",
        "    return img"
      ],
      "execution_count": 25,
      "outputs": []
    },
    {
      "cell_type": "code",
      "metadata": {
        "id": "zSyf9xgnOk9l",
        "colab_type": "code",
        "colab": {
          "base_uri": "https://localhost:8080/",
          "height": 34
        },
        "outputId": "78ff307d-50d5-4d73-c9f4-724610ebfaf3"
      },
      "source": [
        "train_images = np.array(list(map(preProcessing,train_images)))\n",
        "val_images = np.array(list(map(preProcessing,val_images)))\n",
        "test_images = np.array(list(map(preProcessing,test_images)))\n",
        "\n",
        "print(f\"{train_images.shape} {val_images.shape} {test_images.shape}\")"
      ],
      "execution_count": 26,
      "outputs": [
        {
          "output_type": "stream",
          "text": [
            "(6502, 28, 28) (1626, 28, 28) (2032, 28, 28)\n"
          ],
          "name": "stdout"
        }
      ]
    },
    {
      "cell_type": "code",
      "metadata": {
        "id": "RPgHa-B1OpgR",
        "colab_type": "code",
        "colab": {
          "base_uri": "https://localhost:8080/",
          "height": 34
        },
        "outputId": "0747fdf5-bb35-4eb7-8a04-f3e3293d7efc"
      },
      "source": [
        "train_images = train_images.reshape(train_images.shape[0], 28, 28, 1)\n",
        "test_images = test_images.reshape(test_images.shape[0], 28, 28, 1)\n",
        "val_images = val_images.reshape(val_images.shape[0], 28, 28, 1)\n",
        "\n",
        "print(f\"{train_images.shape} {val_images.shape} {test_images.shape}\")"
      ],
      "execution_count": 27,
      "outputs": [
        {
          "output_type": "stream",
          "text": [
            "(6502, 28, 28, 1) (1626, 28, 28, 1) (2032, 28, 28, 1)\n"
          ],
          "name": "stdout"
        }
      ]
    },
    {
      "cell_type": "code",
      "metadata": {
        "id": "Fi0YaqmMOsgl",
        "colab_type": "code",
        "colab": {}
      },
      "source": [
        "model = tf.keras.models.Sequential([\n",
        "                                    tf.keras.layers.Conv2D(32, (3,3), input_shape=(28, 28, 1),  activation=\"relu\"),\n",
        "                                    tf.keras.layers.MaxPooling2D(2, 2),\n",
        "                                    tf.keras.layers.Dropout(0.5),\n",
        "                                    tf.keras.layers.Conv2D(64, (3,3),  activation=\"relu\"),\n",
        "                                    tf.keras.layers.MaxPooling2D(2, 2),\n",
        "                                    tf.keras.layers.Dropout(0.5),\n",
        "                                    tf.keras.layers.Conv2D(64, (3,3),  activation=\"relu\"),\n",
        "                                    tf.keras.layers.Flatten(),\n",
        "                                    tf.keras.layers.Dense(128, activation=\"relu\"),\n",
        "                                    tf.keras.layers.Dropout(0.5),\n",
        "                                    tf.keras.layers.Dense(10,activation=tf.nn.softmax)\n",
        "])"
      ],
      "execution_count": 28,
      "outputs": []
    },
    {
      "cell_type": "code",
      "metadata": {
        "id": "E0hHIG-0OvsJ",
        "colab_type": "code",
        "colab": {
          "base_uri": "https://localhost:8080/",
          "height": 527
        },
        "outputId": "e548562d-ca6b-406f-cba3-e1a1189ae549"
      },
      "source": [
        "model.compile(optimizer='adam', \n",
        "              loss='sparse_categorical_crossentropy', \n",
        "              metrics=['accuracy'])\n",
        "model.summary()"
      ],
      "execution_count": 29,
      "outputs": [
        {
          "output_type": "stream",
          "text": [
            "Model: \"sequential\"\n",
            "_________________________________________________________________\n",
            "Layer (type)                 Output Shape              Param #   \n",
            "=================================================================\n",
            "conv2d (Conv2D)              (None, 26, 26, 32)        320       \n",
            "_________________________________________________________________\n",
            "max_pooling2d (MaxPooling2D) (None, 13, 13, 32)        0         \n",
            "_________________________________________________________________\n",
            "dropout (Dropout)            (None, 13, 13, 32)        0         \n",
            "_________________________________________________________________\n",
            "conv2d_1 (Conv2D)            (None, 11, 11, 64)        18496     \n",
            "_________________________________________________________________\n",
            "max_pooling2d_1 (MaxPooling2 (None, 5, 5, 64)          0         \n",
            "_________________________________________________________________\n",
            "dropout_1 (Dropout)          (None, 5, 5, 64)          0         \n",
            "_________________________________________________________________\n",
            "conv2d_2 (Conv2D)            (None, 3, 3, 64)          36928     \n",
            "_________________________________________________________________\n",
            "flatten (Flatten)            (None, 576)               0         \n",
            "_________________________________________________________________\n",
            "dense (Dense)                (None, 128)               73856     \n",
            "_________________________________________________________________\n",
            "dropout_2 (Dropout)          (None, 128)               0         \n",
            "_________________________________________________________________\n",
            "dense_1 (Dense)              (None, 10)                1290      \n",
            "=================================================================\n",
            "Total params: 130,890\n",
            "Trainable params: 130,890\n",
            "Non-trainable params: 0\n",
            "_________________________________________________________________\n"
          ],
          "name": "stdout"
        }
      ]
    },
    {
      "cell_type": "code",
      "metadata": {
        "id": "Rzso5YJzOyf7",
        "colab_type": "code",
        "colab": {}
      },
      "source": [
        "datagen = tf.keras.preprocessing.image.ImageDataGenerator(width_shift_range=0.1,\n",
        "                             height_shift_range=0.1,\n",
        "                             zoom_range=0.2,\n",
        "                             shear_range=0.1,\n",
        "                             rotation_range=10)"
      ],
      "execution_count": 30,
      "outputs": []
    },
    {
      "cell_type": "code",
      "metadata": {
        "id": "vwj2c8E8O08A",
        "colab_type": "code",
        "colab": {
          "base_uri": "https://localhost:8080/",
          "height": 697
        },
        "outputId": "a1f62b07-1737-4f3d-fc86-19593d8950e1"
      },
      "source": [
        "history = model.fit(datagen.flow(train_images, train_labels),\n",
        "                              epochs = 20, batch_size=128, validation_data = (val_images, val_labels))"
      ],
      "execution_count": 31,
      "outputs": [
        {
          "output_type": "stream",
          "text": [
            "Epoch 1/20\n",
            "204/204 [==============================] - 3s 13ms/step - loss: 1.9942 - accuracy: 0.2613 - val_loss: 0.6494 - val_accuracy: 0.8198\n",
            "Epoch 2/20\n",
            "204/204 [==============================] - 2s 11ms/step - loss: 0.8659 - accuracy: 0.7118 - val_loss: 0.1313 - val_accuracy: 0.9582\n",
            "Epoch 3/20\n",
            "204/204 [==============================] - 2s 11ms/step - loss: 0.4824 - accuracy: 0.8457 - val_loss: 0.0855 - val_accuracy: 0.9779\n",
            "Epoch 4/20\n",
            "204/204 [==============================] - 2s 11ms/step - loss: 0.3432 - accuracy: 0.8963 - val_loss: 0.0679 - val_accuracy: 0.9791\n",
            "Epoch 5/20\n",
            "204/204 [==============================] - 2s 11ms/step - loss: 0.3026 - accuracy: 0.9050 - val_loss: 0.0590 - val_accuracy: 0.9852\n",
            "Epoch 6/20\n",
            "204/204 [==============================] - 2s 11ms/step - loss: 0.2641 - accuracy: 0.9179 - val_loss: 0.0400 - val_accuracy: 0.9889\n",
            "Epoch 7/20\n",
            "204/204 [==============================] - 2s 11ms/step - loss: 0.2349 - accuracy: 0.9268 - val_loss: 0.0521 - val_accuracy: 0.9834\n",
            "Epoch 8/20\n",
            "204/204 [==============================] - 2s 11ms/step - loss: 0.2111 - accuracy: 0.9345 - val_loss: 0.0380 - val_accuracy: 0.9908\n",
            "Epoch 9/20\n",
            "204/204 [==============================] - 2s 11ms/step - loss: 0.1890 - accuracy: 0.9425 - val_loss: 0.0327 - val_accuracy: 0.9889\n",
            "Epoch 10/20\n",
            "204/204 [==============================] - 2s 11ms/step - loss: 0.1635 - accuracy: 0.9492 - val_loss: 0.0332 - val_accuracy: 0.9908\n",
            "Epoch 11/20\n",
            "204/204 [==============================] - 2s 11ms/step - loss: 0.1795 - accuracy: 0.9416 - val_loss: 0.0315 - val_accuracy: 0.9920\n",
            "Epoch 12/20\n",
            "204/204 [==============================] - 2s 11ms/step - loss: 0.1592 - accuracy: 0.9488 - val_loss: 0.0287 - val_accuracy: 0.9908\n",
            "Epoch 13/20\n",
            "204/204 [==============================] - 2s 11ms/step - loss: 0.1565 - accuracy: 0.9526 - val_loss: 0.0344 - val_accuracy: 0.9926\n",
            "Epoch 14/20\n",
            "204/204 [==============================] - 2s 11ms/step - loss: 0.1539 - accuracy: 0.9522 - val_loss: 0.0196 - val_accuracy: 0.9945\n",
            "Epoch 15/20\n",
            "204/204 [==============================] - 2s 11ms/step - loss: 0.1405 - accuracy: 0.9534 - val_loss: 0.0212 - val_accuracy: 0.9938\n",
            "Epoch 16/20\n",
            "204/204 [==============================] - 2s 11ms/step - loss: 0.1267 - accuracy: 0.9597 - val_loss: 0.0182 - val_accuracy: 0.9938\n",
            "Epoch 17/20\n",
            "204/204 [==============================] - 2s 11ms/step - loss: 0.1276 - accuracy: 0.9617 - val_loss: 0.0183 - val_accuracy: 0.9938\n",
            "Epoch 18/20\n",
            "204/204 [==============================] - 2s 11ms/step - loss: 0.1316 - accuracy: 0.9622 - val_loss: 0.0186 - val_accuracy: 0.9957\n",
            "Epoch 19/20\n",
            "204/204 [==============================] - 2s 11ms/step - loss: 0.1221 - accuracy: 0.9619 - val_loss: 0.0134 - val_accuracy: 0.9963\n",
            "Epoch 20/20\n",
            "204/204 [==============================] - 2s 11ms/step - loss: 0.1328 - accuracy: 0.9619 - val_loss: 0.0163 - val_accuracy: 0.9932\n"
          ],
          "name": "stdout"
        }
      ]
    },
    {
      "cell_type": "code",
      "metadata": {
        "id": "6C1-oRRlPF7Q",
        "colab_type": "code",
        "colab": {
          "base_uri": "https://localhost:8080/",
          "height": 541
        },
        "outputId": "512a5f6a-553c-47b4-df47-43bfa0f4d535"
      },
      "source": [
        "def show_plot(history,string):\n",
        "    plt.plot(history.history[string])\n",
        "    plt.plot(history.history[\"val_\" + string])\n",
        "    plt.xlabel(\"epochs\")\n",
        "    plt.ylabel(string)\n",
        "    plt.legend([string,\"val_\" + string])\n",
        "    plt.show()\n",
        "    \n",
        "show_plot(history,\"accuracy\")  \n",
        "show_plot(history,\"loss\")"
      ],
      "execution_count": 33,
      "outputs": [
        {
          "output_type": "display_data",
          "data": {
            "image/png": "[encoded data removed]",
            "text/plain": [
              "<Figure size 432x288 with 1 Axes>"
            ]
          },
          "metadata": {
            "tags": [],
            "needs_background": "light"
          }
        },
        {
          "output_type": "display_data",
          "data": {
            "image/png": "[encoded data removed]",
            "text/plain": [
              "<Figure size 432x288 with 1 Axes>"
            ]
          },
          "metadata": {
            "tags": [],
            "needs_background": "light"
          }
        }
      ]
    },
    {
      "cell_type": "code",
      "metadata": {
        "id": "9IZvClPlP3-b",
        "colab_type": "code",
        "colab": {
          "base_uri": "https://localhost:8080/",
          "height": 68
        },
        "outputId": "f540552d-8fd1-4340-af54-f7bc1b6f4ab4"
      },
      "source": [
        "score = model.evaluate(test_images, test_labels, verbose=1)\n",
        "print('Test Score : ', score[0])\n",
        "print('Test Accuracy : ', score[1])"
      ],
      "execution_count": 34,
      "outputs": [
        {
          "output_type": "stream",
          "text": [
            "64/64 [==============================] - 0s 3ms/step - loss: 0.0163 - accuracy: 0.9941\n",
            "Test Score :  0.016306091099977493\n",
            "Test Accuracy :  0.9940944910049438\n"
          ],
          "name": "stdout"
        }
      ]
    },
    {
      "cell_type": "code",
      "metadata": {
        "id": "tuqi5vMUQV-r",
        "colab_type": "code",
        "colab": {}
      },
      "source": [
        "model.save(\"digitRecognizer.h5\")"
      ],
      "execution_count": 35,
      "outputs": []
    },
    {
      "cell_type": "code",
      "metadata": {
        "id": "kq1fBZE7Qw_e",
        "colab_type": "code",
        "colab": {}
      },
      "source": [
        ""
      ],
      "execution_count": null,
      "outputs": []
    }
  ]
}